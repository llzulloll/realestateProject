{
 "cells": [
  {
   "cell_type": "markdown",
   "metadata": {},
   "source": [
    "Lorenzo Zullo \n",
    "Real Estate Dataset \n",
    "\n",
    "The problem: Real estate investors need reliable data to decide where to invest in real estate.\n",
    "They want to know which areas are growing and which properties are undervalued to maximize their return on investment (ROI)\n",
    "\n",
    "The solution: \n",
    "Identify the best real estate markets with the highest growth potential.\n",
    "Predict home prices based on key factors (house size, bedrooms, ZHVI trends).\n",
    "Find undervalued properties by comparing current listings to long-term market trends.\n",
    "Assess market risks by measuring price volatility in different states.\n"
   ]
  },
  {
   "cell_type": "code",
   "execution_count": 32,
   "metadata": {},
   "outputs": [],
   "source": [
    "import pandas as pd\n",
    "import numpy as np\n",
    "import matplotlib.pyplot as plt\n",
    "import seaborn as sns\n",
    "from sklearn.model_selection import train_test_split\n",
    "from sklearn.linear_model import LinearRegression\n",
    "from sklearn.metrics import mean_absolute_error, mean_squared_error, r2_score\n",
    "import numpy as np\n",
    "import pandas as pd\n",
    "import matplotlib.pyplot as plt\n",
    "import seaborn as sns\n",
    "from sklearn.linear_model import Lasso, Ridge\n",
    "from sklearn.model_selection import train_test_split\n",
    "from sklearn.preprocessing import StandardScaler\n",
    "from sklearn.metrics import mean_absolute_error, mean_squared_error, r2_score\n",
    "\n",
    "# ignore warnings\n",
    "import warnings\n",
    "warnings.filterwarnings(\"ignore\")"
   ]
  },
  {
   "cell_type": "markdown",
   "metadata": {},
   "source": [
    "First we have to import both data sets, we only need certain data points from each dataset so we input which columns we need. "
   ]
  },
  {
   "cell_type": "code",
   "execution_count": 2,
   "metadata": {},
   "outputs": [
    {
     "data": {
      "text/plain": [
       "(      price  bed  bath  acre_lot        city        state zip_code  house_size\n",
       " 0  105000.0  3.0   2.0      0.12    Adjuntas  Puerto Rico    00601       920.0\n",
       " 1   80000.0  4.0   2.0      0.08    Adjuntas  Puerto Rico    00601      1527.0\n",
       " 2   67000.0  2.0   1.0      0.15  Juana Diaz  Puerto Rico    00795       748.0\n",
       " 3  145000.0  4.0   2.0      0.10       Ponce  Puerto Rico    00731      1800.0\n",
       " 4   65000.0  6.0   2.0      0.05    Mayaguez  Puerto Rico    00680         NaN,\n",
       "               city state      ZHVI_2020    ZHVI_latest\n",
       " 0    United States   NaN  243005.332995  355327.955070\n",
       " 1     New York, NY    NY  497295.221753  675063.976036\n",
       " 2  Los Angeles, CA    CA  659455.738592  950740.494586\n",
       " 3      Chicago, IL    IL  234666.174870  322389.516129\n",
       " 4       Dallas, TX    TX  254715.294046  368515.900537)"
      ]
     },
     "execution_count": 2,
     "metadata": {},
     "output_type": "execute_result"
    }
   ],
   "source": [
    "\n",
    "# File paths \n",
    "realtor_file = \"Data/realtor-data.csv\"\n",
    "zhvi_file = \"Data/zillow-zhvi.csv\"\n",
    "\n",
    "# Load realtor data \n",
    "# turn zip_code into string instead of float\n",
    "realtor_df = pd.read_csv(realtor_file, usecols=[\"price\", \"bed\", \"bath\", \"acre_lot\", \"city\", \"state\", \"zip_code\", \"house_size\"], \n",
    "                             dtype={\"zip_code\": \"str\"} )\n",
    "\n",
    "# Load ZHVI data \n",
    "# only use certain columns\n",
    "zhvi_df = pd.read_csv(zhvi_file, usecols=[\"RegionName\", \"StateName\", \"2020-01-31\", \"2025-01-31\"])\n",
    "# Rename columns for clarity\n",
    "zhvi_df.rename(columns={\"RegionName\": \"city\", \"StateName\": \"state\", \"2025-01-31\": \"ZHVI_latest\", \"2020-01-31\": \"ZHVI_2020\"}, inplace=True)\n",
    "\n",
    "realtor_df.head(), zhvi_df.head()\n"
   ]
  },
  {
   "cell_type": "markdown",
   "metadata": {},
   "source": [
    "We next have to make the data match on both sets so we can merge the two for our purposes. We can do this by making the cities and states the same. "
   ]
  },
  {
   "cell_type": "code",
   "execution_count": 3,
   "metadata": {},
   "outputs": [
    {
     "data": {
      "text/plain": [
       "(      price  bed  bath  acre_lot        city state zip_code  house_size\n",
       " 0  105000.0  3.0   2.0      0.12    adjuntas    PR    00601       920.0\n",
       " 1   80000.0  4.0   2.0      0.08    adjuntas    PR    00601      1527.0\n",
       " 2   67000.0  2.0   1.0      0.15  juana diaz    PR    00795       748.0\n",
       " 3  145000.0  4.0   2.0      0.10       ponce    PR    00731      1800.0\n",
       " 4   65000.0  6.0   2.0      0.05    mayaguez    PR    00680         NaN,\n",
       "           city state      ZHVI_2020    ZHVI_latest\n",
       " 1     new york    NY  497295.221753  675063.976036\n",
       " 2  los angeles    CA  659455.738592  950740.494586\n",
       " 3      chicago    IL  234666.174870  322389.516129\n",
       " 4       dallas    TX  254715.294046  368515.900537\n",
       " 5      houston    TX  222469.171285  305480.078502)"
      ]
     },
     "execution_count": 3,
     "metadata": {},
     "output_type": "execute_result"
    }
   ],
   "source": [
    "# Standardize city and state names\n",
    "realtor_df[\"city\"] = realtor_df[\"city\"].str.strip().str.lower()\n",
    "realtor_df[\"state\"] = realtor_df[\"state\"].str.strip().str.lower()\n",
    "\n",
    "zhvi_df[\"city\"] = zhvi_df[\"city\"].str.split(\",\").str[0].str.strip().str.lower()\n",
    "zhvi_df[\"state\"] = zhvi_df[\"state\"].str.strip()\n",
    "\n",
    "# ChatGPT prompt: \"Can you give me state names in lowercase followed by abbreviated state names in uppercase? Put them in a python dictionary.\"\n",
    "# State abbreviations \n",
    "state_abbrev = {\n",
    "    \"alabama\": \"AL\", \"alaska\": \"AK\", \"arizona\": \"AZ\", \"arkansas\": \"AR\", \"california\": \"CA\",\n",
    "    \"colorado\": \"CO\", \"connecticut\": \"CT\", \"delaware\": \"DE\", \"florida\": \"FL\", \"georgia\": \"GA\",\n",
    "    \"hawaii\": \"HI\", \"idaho\": \"ID\", \"illinois\": \"IL\", \"indiana\": \"IN\", \"iowa\": \"IA\",\n",
    "    \"kansas\": \"KS\", \"kentucky\": \"KY\", \"louisiana\": \"LA\", \"maine\": \"ME\", \"maryland\": \"MD\",\n",
    "    \"massachusetts\": \"MA\", \"michigan\": \"MI\", \"minnesota\": \"MN\", \"mississippi\": \"MS\",\n",
    "    \"missouri\": \"MO\", \"montana\": \"MT\", \"nebraska\": \"NE\", \"nevada\": \"NV\", \"new hampshire\": \"NH\",\n",
    "    \"new jersey\": \"NJ\", \"new mexico\": \"NM\", \"new york\": \"NY\", \"north carolina\": \"NC\",\n",
    "    \"north dakota\": \"ND\", \"ohio\": \"OH\", \"oklahoma\": \"OK\", \"oregon\": \"OR\", \"pennsylvania\": \"PA\",\n",
    "    \"rhode island\": \"RI\", \"south carolina\": \"SC\", \"south dakota\": \"SD\", \"tennessee\": \"TN\",\n",
    "    \"texas\": \"TX\", \"utah\": \"UT\", \"vermont\": \"VT\", \"virginia\": \"VA\", \"washington\": \"WA\",\n",
    "    \"west virginia\": \"WV\", \"wisconsin\": \"WI\", \"wyoming\": \"WY\", \"district of columbia\": \"DC\",\n",
    "    \"puerto rico\": \"PR\"  \n",
    "}\n",
    "\n",
    "# Apply state abbreviation conversion to realtor dataset\n",
    "realtor_df[\"state\"] = realtor_df[\"state\"].str.lower().map(state_abbrev)\n",
    "\n",
    "# remove rows with missing values\n",
    "zhvi_df = zhvi_df.dropna()\n",
    "\n",
    "# remove united states from zhvi dataset\n",
    "zhvi_df = zhvi_df[zhvi_df[\"city\"] != \"united states\"]\n",
    "\n",
    "# Display fixed head of datasets\n",
    "realtor_df.head(), zhvi_df.head()\n"
   ]
  },
  {
   "cell_type": "code",
   "execution_count": 4,
   "metadata": {},
   "outputs": [],
   "source": [
    "\n",
    "# Compute growth rate (2020-2025) in home values\n",
    "zhvi_df[\"growth_2020_2025\"] = ((zhvi_df[\"ZHVI_latest\"] - zhvi_df[\"ZHVI_2020\"]) / zhvi_df[\"ZHVI_2020\"]) * 100\n",
    "zhvi_df.drop(columns=[\"ZHVI_2020\"], inplace=True)  # No longer needed\n"
   ]
  },
  {
   "cell_type": "code",
   "execution_count": null,
   "metadata": {},
   "outputs": [],
   "source": [
    "# function to evaluate models\n",
    "def evaluate_model(y_true, y_pred, model_name):\n",
    "    mae = mean_absolute_error(y_true, y_pred)\n",
    "    mse = mean_squared_error(y_true, y_pred)\n",
    "    rmse = np.sqrt(mse)\n",
    "    r2 = r2_score(y_true, y_pred)\n",
    "    return {\"Model\": model_name, \"MAE\": mae, \"MSE\": mse, \"RMSE\": rmse, \"R² Score\": r2}"
   ]
  },
  {
   "cell_type": "markdown",
   "metadata": {},
   "source": [
    "Now we want to merge these datasets. We will do this on the state and city. We then drop values on cities we dont have to ensure\n",
    "accurate insights. "
   ]
  },
  {
   "cell_type": "code",
   "execution_count": 59,
   "metadata": {},
   "outputs": [
    {
     "name": "stdout",
     "output_type": "stream",
     "text": [
      "         price  bed  bath  acre_lot         city state zip_code  house_size  \\\n",
      "3464  184900.0  3.0   1.0      0.31  springfield    MA    01151      1252.0   \n",
      "3473  279900.0  4.0   4.0      0.11  springfield    MA    01104      1908.0   \n",
      "3704  750000.0  8.0   8.0      0.10  springfield    MA    01151     11890.0   \n",
      "3738   42000.0  3.0   2.0      0.20  springfield    MA    01104      1625.0   \n",
      "3775  240000.0  3.0   2.0      0.16  springfield    MA    01104      1284.0   \n",
      "\n",
      "        ZHVI_latest  growth_2020_2025  state_encoded    zip_encoded  \n",
      "3464  344466.768834         49.745212  536967.637828  260808.314286  \n",
      "3473  344466.768834         49.745212  536967.637828  221187.222222  \n",
      "3704  344466.768834         49.745212  536967.637828  260808.314286  \n",
      "3738  344466.768834         49.745212  536967.637828  221187.222222  \n",
      "3775  344466.768834         49.745212  536967.637828  221187.222222   (556348, 12)\n"
     ]
    }
   ],
   "source": [
    "\n",
    "\n",
    "# Merge realtor dataset with Zillow ZHVI dataset on city and state\n",
    "merged_df = realtor_df.merge(zhvi_df, on=[\"state\", \"city\"], how=\"left\")\n",
    "\n",
    "# Drop rows where price and zhvi_latest are missing\n",
    "merged_df.dropna(subset=[\"price\"], inplace=True)\n",
    "merged_df.dropna(subset=[\"ZHVI_latest\"], inplace=True)\n",
    "\n",
    "# remove outliers\n",
    "merged_df = merged_df[merged_df[\"price\"] < merged_df[\"price\"].quantile(0.95)]\n",
    "merged_df = merged_df[merged_df[\"price\"] > merged_df[\"price\"].quantile(0.01)]\n",
    "\n",
    "# Target Encoding: Replace 'state' and 'zip_code' with their mean home price\n",
    "state_avg_price = merged_df.groupby(\"state\")[\"price\"].transform(\"mean\")\n",
    "zip_avg_price = merged_df.groupby(\"zip_code\")[\"price\"].transform(\"mean\")\n",
    "    \n",
    "# Add encoded features to the dataset\n",
    "merged_df[\"state_encoded\"] = state_avg_price\n",
    "merged_df[\"zip_encoded\"] = zip_avg_price\n",
    "\n",
    "# Fill missing values in numeric columns with median values to avoid issues in analysis\n",
    "for col in [\"state_encoded\", \"zip_encoded\", \"bed\", \"bath\", \"house_size\", \"acre_lot\", \"ZHVI_latest\", \"growth_2020_2025\"]:\n",
    "    merged_df[col].fillna(merged_df[col].median(), inplace=True)\n",
    "\n",
    "\n",
    "# Display merged dataset sample\n",
    "print(merged_df.head(), merged_df.shape)"
   ]
  },
  {
   "cell_type": "code",
   "execution_count": 43,
   "metadata": {},
   "outputs": [
    {
     "data": {
      "image/png": "[encoded data removed]",
      "text/plain": [
       "<Figure size 1000x500 with 1 Axes>"
      ]
     },
     "metadata": {},
     "output_type": "display_data"
    }
   ],
   "source": [
    "# Price Distribution Analysis\n",
    "\n",
    "# Plot histogram\n",
    "plt.figure(figsize=(10, 5))\n",
    "sns.histplot(merged_df[\"price\"], bins=30, kde=True)\n",
    "plt.xlabel(\"Home Price ($)\")\n",
    "plt.ylabel(\"Frequency\")\n",
    "plt.title(\"Distribution of Home Prices (Filtered & Sampled)\")\n",
    "plt.show()\n"
   ]
  },
  {
   "cell_type": "code",
   "execution_count": 60,
   "metadata": {},
   "outputs": [
    {
     "data": {
      "image/png": "[encoded data removed]",
      "text/plain": [
       "<Figure size 1000x600 with 2 Axes>"
      ]
     },
     "metadata": {},
     "output_type": "display_data"
    }
   ],
   "source": [
    "# Correlation matrix\n",
    "correlation_matrix = merged_df[[\"state_encoded\",\"zip_encoded\", \"price\", \"bed\", \"bath\", \"house_size\", \"acre_lot\", \"ZHVI_latest\", \"growth_2020_2025\"]].corr()\n",
    "\n",
    "plt.figure(figsize=(10, 6))\n",
    "sns.heatmap(correlation_matrix, annot=True, cmap=\"coolwarm\", fmt=\".2f\")\n",
    "plt.title(\"Correlation Between Home Price and Other Factors\")\n",
    "plt.show()"
   ]
  },
  {
   "cell_type": "markdown",
   "metadata": {},
   "source": [
    "We will show the states with highest volatility to help us find states that have a wide range of home prices, which is an important insight for investors."
   ]
  },
  {
   "cell_type": "code",
   "execution_count": 61,
   "metadata": {},
   "outputs": [
    {
     "data": {
      "image/png": "[encoded data removed]",
      "text/plain": [
       "<Figure size 1200x600 with 1 Axes>"
      ]
     },
     "metadata": {},
     "output_type": "display_data"
    }
   ],
   "source": [
    "# Market Risk Assessment - Identify High-Volatility States\n",
    "volatility_states = merged_df.groupby(\"state\")[\"growth_2020_2025\"].std().reset_index()\n",
    "volatility_states = volatility_states.sort_values(by=\"growth_2020_2025\", ascending=False).head(10)\n",
    "\n",
    "# Visualization of High-Volatility States\n",
    "plt.figure(figsize=(12, 6))\n",
    "sns.barplot(data=volatility_states, x=\"growth_2020_2025\", y=\"state\", palette=\"viridis\")\n",
    "plt.xlabel(\"Volatility (Standard Deviation)\")\n",
    "plt.ylabel(\"State\")\n",
    "plt.title(\"Top 10 States with Highest Volatility in Home Price Growth (2020-2025)\")\n",
    "plt.show()\n"
   ]
  },
  {
   "cell_type": "markdown",
   "metadata": {},
   "source": [
    "We will generate the top 10 states with highest home price growth to locate ideal states that would be attractive to investors. "
   ]
  },
  {
   "cell_type": "code",
   "execution_count": 62,
   "metadata": {},
   "outputs": [
    {
     "data": {
      "image/png": "[encoded data removed]",
      "text/plain": [
       "<Figure size 1200x600 with 1 Axes>"
      ]
     },
     "metadata": {},
     "output_type": "display_data"
    }
   ],
   "source": [
    "# Identify Top 10 States with Highest Home Price Growth\n",
    "top_10_states = merged_df.groupby(\"state\")[\"growth_2020_2025\"].mean().reset_index()\n",
    "top_10_states = top_10_states.sort_values(by=\"growth_2020_2025\", ascending=False).head(10)\n",
    "\n",
    "# Visualization of Top 10 Growth States\n",
    "plt.figure(figsize=(12, 6))\n",
    "sns.barplot(data=top_10_states, x=\"growth_2020_2025\", y=\"state\", palette=\"viridis\")\n",
    "plt.xlabel(\"Growth Rate (2020-2025) [%]\")\n",
    "plt.ylabel(\"State\")\n",
    "plt.title(\"Top 10 States with Highest Home Price Growth (2020-2025)\")\n",
    "plt.show()\n"
   ]
  },
  {
   "cell_type": "code",
   "execution_count": null,
   "metadata": {},
   "outputs": [],
   "source": [
    "# Linear Regression Model to Predict Home Prices\n",
    "# Prepare data for modeling\n",
    "X = merged_df[[\"bed\", \"bath\", \"house_size\", \"acre_lot\", \"ZHVI_latest\", \"state_encoded\", \"zip_encoded\"]]\n",
    "y = merged_df[\"price\"]\n",
    "\n",
    "# Split data into training and testing sets\n",
    "X_train, X_test, y_train, y_test = train_test_split(X, y, test_size=0.2, random_state=42)\n",
    "\n",
    "# Train a Linear Regression model\n",
    "model = LinearRegression()\n",
    "model.fit(X_train, y_train)\n",
    "\n",
    "# Make predictions\n",
    "y_pred = model.predict(X_test)"
   ]
  },
  {
   "cell_type": "code",
   "execution_count": 90,
   "metadata": {},
   "outputs": [
    {
     "name": "stdout",
     "output_type": "stream",
     "text": [
      "\n",
      "Model Performance Comparison:\n",
      "               Model            MAE           MSE           RMSE  R² Score\n",
      "0   Lasso Regression  116221.724003  2.970146e+10  172341.122260  0.577715\n",
      "1   Ridge Regression  116213.779770  2.969863e+10  172332.909807  0.577755\n",
      "2  Linear Regression  116234.706811  2.970027e+10  172337.665446  0.577731\n"
     ]
    }
   ],
   "source": [
    "\n",
    "from sklearn.linear_model import LassoCV, RidgeCV\n",
    "\n",
    "# Define feature set and target variable\n",
    "features = [\"bed\", \"bath\", \"house_size\", \"acre_lot\", \"ZHVI_latest\", \"growth_2020_2025\", \"state_encoded\", \"zip_encoded\"]\n",
    "target = \"price\"\n",
    "\n",
    "X = merged_df[features]\n",
    "y = merged_df[target]\n",
    "\n",
    "# Split data \n",
    "X_train, X_test, y_train, y_test = train_test_split(X, y, test_size=0.2, random_state=42)\n",
    "\n",
    "# Standardize feautures\n",
    "scaler = StandardScaler()\n",
    "X_train_scaled = X_train.copy()\n",
    "X_test_scaled = X_test.copy()\n",
    "\n",
    "X_train_scaled[features] = scaler.fit_transform(X_train[features])\n",
    "X_test_scaled[features] = scaler.transform(X_test[features])\n",
    "\n",
    "# Train Lasso Regression Model with Cross-Validation for Best Alpha\n",
    "lasso = LassoCV(alphas=np.logspace(-4, 2, 10), cv=5)\n",
    "lasso.fit(X_train_scaled, y_train)\n",
    "lasso_pred = lasso.predict(X_test_scaled)\n",
    "\n",
    "# Train Ridge Regression Model with Cross-Validation for Best Alpha\n",
    "ridge = RidgeCV(alphas=np.logspace(-4, 2, 10), cv=5)\n",
    "ridge.fit(X_train_scaled, y_train)\n",
    "ridge_pred = ridge.predict(X_test_scaled)\n",
    "\n",
    "# Evaluate models\n",
    "lasso_results = evaluate_model(y_test, lasso_pred, \"Lasso Regression\")\n",
    "ridge_results = evaluate_model(y_test, ridge_pred, \"Ridge Regression\")\n",
    "linear_result= evaluate_model(y_test, y_pred, \"Linear Regression\")\n",
    "\n",
    "# Convert results to DataFrame\n",
    "model_performance_df = pd.DataFrame([lasso_results, ridge_results, linear_result])\n",
    "\n",
    "# Display model performance\n",
    "print(\"\\nModel Performance Comparison:\")\n",
    "print(model_performance_df)\n",
    "\n"
   ]
  },
  {
   "cell_type": "markdown",
   "metadata": {},
   "source": [
    "Now we want to find under valued markets to find where we should focus on investing in. We will indentify cities/states where home prices are much lower than expected compared to their historical ZHVI trends.\n",
    "\n",
    "Areas with a low price-to-ZHVI ratio suggest properties are priced below market value, making them strong investment opportunities."
   ]
  },
  {
   "cell_type": "code",
   "execution_count": 91,
   "metadata": {},
   "outputs": [
    {
     "name": "stdout",
     "output_type": "stream",
     "text": [
      "\n",
      "Top 10 Undervalued Markets:\n",
      "    state        city  price_to_ZHVI_ratio\n",
      "123    FL  north port             0.316493\n",
      "378    MN    marshall             0.403954\n",
      "682    SD    aberdeen             0.474913\n",
      "498    NJ     trenton             0.479201\n",
      "683    SD   brookings             0.485433\n",
      "104    CT  bridgeport             0.489559\n",
      "107    CT     norwich             0.510482\n",
      "128    FL    palm bay             0.521689\n",
      "94     CO     edwards             0.533479\n",
      "112    FL   clewiston             0.534035\n"
     ]
    }
   ],
   "source": [
    "# Compute price-to-ZHVI ratio to find undervalued markets\n",
    "merged_df[\"price_to_ZHVI_ratio\"] = merged_df[\"price\"] / merged_df[\"ZHVI_latest\"]\n",
    "\n",
    "# Group by state and city to find average price-to-ZHVI ratio\n",
    "undervalued_markets = merged_df.groupby([\"state\", \"city\"])[\"price_to_ZHVI_ratio\"].mean().reset_index()\n",
    "\n",
    "# Sort by lowest price-to-ZHVI ratio (most undervalued)\n",
    "undervalued_markets = undervalued_markets.sort_values(by=\"price_to_ZHVI_ratio\")\n",
    "\n",
    "# Display top 10 undervalued markets\n",
    "print(\"\\nTop 10 Undervalued Markets:\")\n",
    "print(undervalued_markets.head(10))"
   ]
  },
  {
   "cell_type": "markdown",
   "metadata": {},
   "source": [
    "Now we will take a look at high growth markets, that have a relatebey low price.\n",
    "\n",
    "If a city has high growth but still low home prices, it’s likely to appreciate soon, making it a strong investment choice."
   ]
  },
  {
   "cell_type": "code",
   "execution_count": 92,
   "metadata": {},
   "outputs": [
    {
     "name": "stdout",
     "output_type": "stream",
     "text": [
      "\n",
      "Top 10 High-Growth, Low-Price Markets:\n",
      "    state               city  avg_growth     avg_price\n",
      "167    GA          thomaston   87.235491  2.249927e+05\n",
      "102    CO  steamboat springs   87.187038  7.713283e+05\n",
      "491    NH             berlin   85.570898  1.360945e+05\n",
      "434    MT          kalispell   85.483433  5.337461e+05\n",
      "94     CO            edwards   84.245060  6.987955e+05\n",
      "147    GA          cedartown   83.989344  2.157279e+05\n",
      "170    GA             toccoa   82.139018  2.066706e+05\n",
      "112    FL          clewiston   81.429850  1.469858e+05\n",
      "494    NH            laconia   79.275613  4.471493e+05\n",
      "866    WY            jackson   78.466808  1.015455e+06\n"
     ]
    }
   ],
   "source": [
    "# Find high-growth markets with relatively low prices\n",
    "growth_vs_price = merged_df.groupby([\"state\", \"city\"]).agg(\n",
    "    avg_growth=(\"growth_2020_2025\", \"mean\"),\n",
    "    avg_price=(\"price\", \"mean\")\n",
    ").reset_index()\n",
    "\n",
    "# Sort by highest growth but lowest average price\n",
    "best_growth_markets = growth_vs_price.sort_values(by=[\"avg_growth\", \"avg_price\"], ascending=[False, True])\n",
    "\n",
    "# Display top 10 best high-growth, low-price markets\n",
    "print(\"\\nTop 10 High-Growth, Low-Price Markets:\")\n",
    "print(best_growth_markets.head(10))"
   ]
  },
  {
   "cell_type": "markdown",
   "metadata": {},
   "source": [
    "Now we will combine these scores into one 'investment score'. This is used so we can see what the best possible city/state is according to our data. \n",
    "\n",
    "This ranking helps investors decide where to buy properties based on multiple factors:\n",
    "- High growth rate (growth_2020_2025)\n",
    "- Low price-to-ZHVI ratio (undervalued properties)\n",
    "- Low price volatility "
   ]
  },
  {
   "cell_type": "code",
   "execution_count": 95,
   "metadata": {},
   "outputs": [
    {
     "name": "stdout",
     "output_type": "stream",
     "text": [
      "\n",
      "Top 10 Markets to Invest In:\n",
      "    state               city  investment_score\n",
      "102    CO  steamboat springs          0.946955\n",
      "491    NH             berlin          0.940929\n",
      "167    GA          thomaston          0.934493\n",
      "434    MT          kalispell          0.934276\n",
      "94     CO            edwards          0.933879\n",
      "147    GA          cedartown          0.922067\n",
      "112    FL          clewiston          0.917731\n",
      "170    GA             toccoa          0.913007\n",
      "334    ME            augusta          0.897331\n",
      "866    WY            jackson          0.896957\n"
     ]
    }
   ],
   "source": [
    "# Normalize scores for fair comparison\n",
    "merged_df[\"growth_score\"] = merged_df[\"growth_2020_2025\"] / merged_df[\"growth_2020_2025\"].max()\n",
    "merged_df[\"undervaluation_score\"] = 1 - (merged_df[\"price_to_ZHVI_ratio\"] / merged_df[\"price_to_ZHVI_ratio\"].max())\n",
    "merged_df[\"stability_score\"] = 1 - (merged_df[\"price\"].std() / merged_df[\"price\"].max())  # Lower volatility is better\n",
    "\n",
    "# Compute final investment score (weighted average)\n",
    "merged_df[\"investment_score\"] = (merged_df[\"growth_score\"] * 0.5) + \\\n",
    "                                (merged_df[\"undervaluation_score\"] * 0.3) + \\\n",
    "                                (merged_df[\"stability_score\"] * 0.2)\n",
    "\n",
    "# Rank markets from best to worst\n",
    "top_investment_markets = merged_df.groupby([\"state\", \"city\"])[\"investment_score\"].mean().reset_index()\n",
    "top_investment_markets = top_investment_markets.sort_values(by=\"investment_score\", ascending=False)\n",
    "\n",
    "# Display top 10 best markets to invest in\n",
    "print(\"\\nTop 10 Markets to Invest In:\")\n",
    "print(top_investment_markets.head(10))"
   ]
  },
  {
   "cell_type": "code",
   "execution_count": 112,
   "metadata": {},
   "outputs": [
    {
     "data": {
      "image/png": "[encoded data removed]",
      "text/plain": [
       "<Figure size 1200x600 with 1 Axes>"
      ]
     },
     "metadata": {},
     "output_type": "display_data"
    }
   ],
   "source": [
    "import matplotlib.pyplot as plt\n",
    "import seaborn as sns\n",
    "\n",
    "# Ensure top 10 investment markets are available\n",
    "top_10_investment_markets = top_investment_markets.head(10)\n",
    "\n",
    "state_investment_scores = merged_df.groupby(\"state\")[\"investment_score\"].mean().reset_index()\n",
    "\n",
    "# Box Plot: Price Distributions in Top Investment Cities\n",
    "top_10_price_data = merged_df[merged_df[\"city\"].isin(top_10_investment_markets[\"city\"])]\n",
    "\n",
    "plt.figure(figsize=(12, 6))\n",
    "sns.boxplot(data=top_10_price_data, x=\"city\", y=\"price\", palette=\"viridis\")\n",
    "plt.xticks(rotation=45)\n",
    "plt.xlabel(\"City\")\n",
    "plt.ylabel(\"Home Prices ($)\")\n",
    "plt.title(\"Price Distribution in Top Investment Markets\")\n",
    "plt.grid(axis=\"y\", linestyle=\"--\", alpha=0.5)\n",
    "plt.show()"
   ]
  },
  {
   "cell_type": "code",
   "execution_count": null,
   "metadata": {},
   "outputs": [
    {
     "data": {
      "application/vnd.plotly.v1+json": {
       "config": {
        "plotlyServerURL": "https://plot.ly"
       },
       "data": [
        {
         "coloraxis": "coloraxis",
         "geo": "geo",
         "hovertemplate": "state=%{location}<br>Investment Score=%{z}<extra></extra>",
         "locationmode": "USA-states",
         "locations": [
          "AK",
          "AL",
          "AR",
          "AZ",
          "CA",
          "CO",
          "CT",
          "DE",
          "FL",
          "GA",
          "HI",
          "IA",
          "ID",
          "IL",
          "IN",
          "KS",
          "KY",
          "LA",
          "MA",
          "MD",
          "ME",
          "MI",
          "MN",
          "MO",
          "MS",
          "MT",
          "NC",
          "ND",
          "NE",
          "NH",
          "NJ",
          "NM",
          "NV",
          "NY",
          "OH",
          "OK",
          "OR",
          "PA",
          "RI",
          "SC",
          "SD",
          "TN",
          "TX",
          "UT",
          "VA",
          "VT",
          "WA",
          "WI",
          "WV",
          "WY"
         ],
         "name": "",
         "type": "choropleth",
         "z": [
          0.5367088911602763,
          0.662710775011742,
          0.6986820085099134,
          0.742463892328115,
          0.6829829033258149,
          0.6702647046156718,
          0.7867715388323904,
          0.7512845083520023,
          0.7684227729924056,
          0.7651924018085418,
          0.7437208855699532,
          0.6330940579091316,
          0.8028373997912428,
          0.6523187960249224,
          0.7400167191690135,
          0.6990386745149775,
          0.7062124361992408,
          0.4636731450575512,
          0.7217295126063684,
          0.6462053629417709,
          0.8374085820212632,
          0.7021385884834692,
          0.6460235720382019,
          0.716876368537601,
          0.6149508516679713,
          0.820426544512922,
          0.7823788481629986,
          0.5737158465809823,
          0.6858547650133817,
          0.8633757910220593,
          0.8180431844774096,
          0.7064859859228237,
          0.7003384202064973,
          0.7372670764068507,
          0.7292530981299966,
          0.696002294535949,
          0.6680173177535438,
          0.6928024727653467,
          0.7698594108729929,
          0.7295485082812494,
          0.6989309564241857,
          0.7818632749472708,
          0.6473658591587259,
          0.7413638777946968,
          0.7166830546146503,
          0.7124288295464252,
          0.7138915085098935,
          0.7220277695837328,
          0.638015881591425,
          0.642473682931246
         ]
        }
       ],
       "layout": {
        "coloraxis": {
         "colorbar": {
          "title": {
           "text": "Investment Score"
          }
         },
         "colorscale": [
          [
           0,
           "#440154"
          ],
          [
           0.1111111111111111,
           "#482878"
          ],
          [
           0.2222222222222222,
           "#3e4989"
          ],
          [
           0.3333333333333333,
           "#31688e"
          ],
          [
           0.4444444444444444,
           "#26828e"
          ],
          [
           0.5555555555555556,
           "#1f9e89"
          ],
          [
           0.6666666666666666,
           "#35b779"
          ],
          [
           0.7777777777777778,
           "#6ece58"
          ],
          [
           0.8888888888888888,
           "#b5de2b"
          ],
          [
           1,
           "#fde725"
          ]
         ]
        },
        "geo": {
         "center": {},
         "domain": {
          "x": [
           0,
           1
          ],
          "y": [
           0,
           1
          ]
         },
         "scope": "usa"
        },
        "legend": {
         "tracegroupgap": 0
        },
        "template": {
         "data": {
          "bar": [
           {
            "error_x": {
             "color": "#2a3f5f"
            },
            "error_y": {
             "color": "#2a3f5f"
            },
            "marker": {
             "line": {
              "color": "#E5ECF6",
              "width": 0.5
             },
             "pattern": {
              "fillmode": "overlay",
              "size": 10,
              "solidity": 0.2
             }
            },
            "type": "bar"
           }
          ],
          "barpolar": [
           {
            "marker": {
             "line": {
              "color": "#E5ECF6",
              "width": 0.5
             },
             "pattern": {
              "fillmode": "overlay",
              "size": 10,
              "solidity": 0.2
             }
            },
            "type": "barpolar"
           }
          ],
          "carpet": [
           {
            "aaxis": {
             "endlinecolor": "#2a3f5f",
             "gridcolor": "white",
             "linecolor": "white",
             "minorgridcolor": "white",
             "startlinecolor": "#2a3f5f"
            },
            "baxis": {
             "endlinecolor": "#2a3f5f",
             "gridcolor": "white",
             "linecolor": "white",
             "minorgridcolor": "white",
             "startlinecolor": "#2a3f5f"
            },
            "type": "carpet"
           }
          ],
          "choropleth": [
           {
            "colorbar": {
             "outlinewidth": 0,
             "ticks": ""
            },
            "type": "choropleth"
           }
          ],
          "contour": [
           {
            "colorbar": {
             "outlinewidth": 0,
             "ticks": ""
            },
            "colorscale": [
             [
              0,
              "#0d0887"
             ],
             [
              0.1111111111111111,
              "#46039f"
             ],
             [
              0.2222222222222222,
              "#7201a8"
             ],
             [
              0.3333333333333333,
              "#9c179e"
             ],
             [
              0.4444444444444444,
              "#bd3786"
             ],
             [
              0.5555555555555556,
              "#d8576b"
             ],
             [
              0.6666666666666666,
              "#ed7953"
             ],
             [
              0.7777777777777778,
              "#fb9f3a"
             ],
             [
              0.8888888888888888,
              "#fdca26"
             ],
             [
              1,
              "#f0f921"
             ]
            ],
            "type": "contour"
           }
          ],
          "contourcarpet": [
           {
            "colorbar": {
             "outlinewidth": 0,
             "ticks": ""
            },
            "type": "contourcarpet"
           }
          ],
          "heatmap": [
           {
            "colorbar": {
             "outlinewidth": 0,
             "ticks": ""
            },
            "colorscale": [
             [
              0,
              "#0d0887"
             ],
             [
              0.1111111111111111,
              "#46039f"
             ],
             [
              0.2222222222222222,
              "#7201a8"
             ],
             [
              0.3333333333333333,
              "#9c179e"
             ],
             [
              0.4444444444444444,
              "#bd3786"
             ],
             [
              0.5555555555555556,
              "#d8576b"
             ],
             [
              0.6666666666666666,
              "#ed7953"
             ],
             [
              0.7777777777777778,
              "#fb9f3a"
             ],
             [
              0.8888888888888888,
              "#fdca26"
             ],
             [
              1,
              "#f0f921"
             ]
            ],
            "type": "heatmap"
           }
          ],
          "heatmapgl": [
           {
            "colorbar": {
             "outlinewidth": 0,
             "ticks": ""
            },
            "colorscale": [
             [
              0,
              "#0d0887"
             ],
             [
              0.1111111111111111,
              "#46039f"
             ],
             [
              0.2222222222222222,
              "#7201a8"
             ],
             [
              0.3333333333333333,
              "#9c179e"
             ],
             [
              0.4444444444444444,
              "#bd3786"
             ],
             [
              0.5555555555555556,
              "#d8576b"
             ],
             [
              0.6666666666666666,
              "#ed7953"
             ],
             [
              0.7777777777777778,
              "#fb9f3a"
             ],
             [
              0.8888888888888888,
              "#fdca26"
             ],
             [
              1,
              "#f0f921"
             ]
            ],
            "type": "heatmapgl"
           }
          ],
          "histogram": [
           {
            "marker": {
             "pattern": {
              "fillmode": "overlay",
              "size": 10,
              "solidity": 0.2
             }
            },
            "type": "histogram"
           }
          ],
          "histogram2d": [
           {
            "colorbar": {
             "outlinewidth": 0,
             "ticks": ""
            },
            "colorscale": [
             [
              0,
              "#0d0887"
             ],
             [
              0.1111111111111111,
              "#46039f"
             ],
             [
              0.2222222222222222,
              "#7201a8"
             ],
             [
              0.3333333333333333,
              "#9c179e"
             ],
             [
              0.4444444444444444,
              "#bd3786"
             ],
             [
              0.5555555555555556,
              "#d8576b"
             ],
             [
              0.6666666666666666,
              "#ed7953"
             ],
             [
              0.7777777777777778,
              "#fb9f3a"
             ],
             [
              0.8888888888888888,
              "#fdca26"
             ],
             [
              1,
              "#f0f921"
             ]
            ],
            "type": "histogram2d"
           }
          ],
          "histogram2dcontour": [
           {
            "colorbar": {
             "outlinewidth": 0,
             "ticks": ""
            },
            "colorscale": [
             [
              0,
              "#0d0887"
             ],
             [
              0.1111111111111111,
              "#46039f"
             ],
             [
              0.2222222222222222,
              "#7201a8"
             ],
             [
              0.3333333333333333,
              "#9c179e"
             ],
             [
              0.4444444444444444,
              "#bd3786"
             ],
             [
              0.5555555555555556,
              "#d8576b"
             ],
             [
              0.6666666666666666,
              "#ed7953"
             ],
             [
              0.7777777777777778,
              "#fb9f3a"
             ],
             [
              0.8888888888888888,
              "#fdca26"
             ],
             [
              1,
              "#f0f921"
             ]
            ],
            "type": "histogram2dcontour"
           }
          ],
          "mesh3d": [
           {
            "colorbar": {
             "outlinewidth": 0,
             "ticks": ""
            },
            "type": "mesh3d"
           }
          ],
          "parcoords": [
           {
            "line": {
             "colorbar": {
              "outlinewidth": 0,
              "ticks": ""
             }
            },
            "type": "parcoords"
           }
          ],
          "pie": [
           {
            "automargin": true,
            "type": "pie"
           }
          ],
          "scatter": [
           {
            "fillpattern": {
             "fillmode": "overlay",
             "size": 10,
             "solidity": 0.2
            },
            "type": "scatter"
           }
          ],
          "scatter3d": [
           {
            "line": {
             "colorbar": {
              "outlinewidth": 0,
              "ticks": ""
             }
            },
            "marker": {
             "colorbar": {
              "outlinewidth": 0,
              "ticks": ""
             }
            },
            "type": "scatter3d"
           }
          ],
          "scattercarpet": [
           {
            "marker": {
             "colorbar": {
              "outlinewidth": 0,
              "ticks": ""
             }
            },
            "type": "scattercarpet"
           }
          ],
          "scattergeo": [
           {
            "marker": {
             "colorbar": {
              "outlinewidth": 0,
              "ticks": ""
             }
            },
            "type": "scattergeo"
           }
          ],
          "scattergl": [
           {
            "marker": {
             "colorbar": {
              "outlinewidth": 0,
              "ticks": ""
             }
            },
            "type": "scattergl"
           }
          ],
          "scattermapbox": [
           {
            "marker": {
             "colorbar": {
              "outlinewidth": 0,
              "ticks": ""
             }
            },
            "type": "scattermapbox"
           }
          ],
          "scatterpolar": [
           {
            "marker": {
             "colorbar": {
              "outlinewidth": 0,
              "ticks": ""
             }
            },
            "type": "scatterpolar"
           }
          ],
          "scatterpolargl": [
           {
            "marker": {
             "colorbar": {
              "outlinewidth": 0,
              "ticks": ""
             }
            },
            "type": "scatterpolargl"
           }
          ],
          "scatterternary": [
           {
            "marker": {
             "colorbar": {
              "outlinewidth": 0,
              "ticks": ""
             }
            },
            "type": "scatterternary"
           }
          ],
          "surface": [
           {
            "colorbar": {
             "outlinewidth": 0,
             "ticks": ""
            },
            "colorscale": [
             [
              0,
              "#0d0887"
             ],
             [
              0.1111111111111111,
              "#46039f"
             ],
             [
              0.2222222222222222,
              "#7201a8"
             ],
             [
              0.3333333333333333,
              "#9c179e"
             ],
             [
              0.4444444444444444,
              "#bd3786"
             ],
             [
              0.5555555555555556,
              "#d8576b"
             ],
             [
              0.6666666666666666,
              "#ed7953"
             ],
             [
              0.7777777777777778,
              "#fb9f3a"
             ],
             [
              0.8888888888888888,
              "#fdca26"
             ],
             [
              1,
              "#f0f921"
             ]
            ],
            "type": "surface"
           }
          ],
          "table": [
           {
            "cells": {
             "fill": {
              "color": "#EBF0F8"
             },
             "line": {
              "color": "white"
             }
            },
            "header": {
             "fill": {
              "color": "#C8D4E3"
             },
             "line": {
              "color": "white"
             }
            },
            "type": "table"
           }
          ]
         },
         "layout": {
          "annotationdefaults": {
           "arrowcolor": "#2a3f5f",
           "arrowhead": 0,
           "arrowwidth": 1
          },
          "autotypenumbers": "strict",
          "coloraxis": {
           "colorbar": {
            "outlinewidth": 0,
            "ticks": ""
           }
          },
          "colorscale": {
           "diverging": [
            [
             0,
             "#8e0152"
            ],
            [
             0.1,
             "#c51b7d"
            ],
            [
             0.2,
             "#de77ae"
            ],
            [
             0.3,
             "#f1b6da"
            ],
            [
             0.4,
             "#fde0ef"
            ],
            [
             0.5,
             "#f7f7f7"
            ],
            [
             0.6,
             "#e6f5d0"
            ],
            [
             0.7,
             "#b8e186"
            ],
            [
             0.8,
             "#7fbc41"
            ],
            [
             0.9,
             "#4d9221"
            ],
            [
             1,
             "#276419"
            ]
           ],
           "sequential": [
            [
             0,
             "#0d0887"
            ],
            [
             0.1111111111111111,
             "#46039f"
            ],
            [
             0.2222222222222222,
             "#7201a8"
            ],
            [
             0.3333333333333333,
             "#9c179e"
            ],
            [
             0.4444444444444444,
             "#bd3786"
            ],
            [
             0.5555555555555556,
             "#d8576b"
            ],
            [
             0.6666666666666666,
             "#ed7953"
            ],
            [
             0.7777777777777778,
             "#fb9f3a"
            ],
            [
             0.8888888888888888,
             "#fdca26"
            ],
            [
             1,
             "#f0f921"
            ]
           ],
           "sequentialminus": [
            [
             0,
             "#0d0887"
            ],
            [
             0.1111111111111111,
             "#46039f"
            ],
            [
             0.2222222222222222,
             "#7201a8"
            ],
            [
             0.3333333333333333,
             "#9c179e"
            ],
            [
             0.4444444444444444,
             "#bd3786"
            ],
            [
             0.5555555555555556,
             "#d8576b"
            ],
            [
             0.6666666666666666,
             "#ed7953"
            ],
            [
             0.7777777777777778,
             "#fb9f3a"
            ],
            [
             0.8888888888888888,
             "#fdca26"
            ],
            [
             1,
             "#f0f921"
            ]
           ]
          },
          "colorway": [
           "#636efa",
           "#EF553B",
           "#00cc96",
           "#ab63fa",
           "#FFA15A",
           "#19d3f3",
           "#FF6692",
           "#B6E880",
           "#FF97FF",
           "#FECB52"
          ],
          "font": {
           "color": "#2a3f5f"
          },
          "geo": {
           "bgcolor": "white",
           "lakecolor": "white",
           "landcolor": "#E5ECF6",
           "showlakes": true,
           "showland": true,
           "subunitcolor": "white"
          },
          "hoverlabel": {
           "align": "left"
          },
          "hovermode": "closest",
          "mapbox": {
           "style": "light"
          },
          "paper_bgcolor": "white",
          "plot_bgcolor": "#E5ECF6",
          "polar": {
           "angularaxis": {
            "gridcolor": "white",
            "linecolor": "white",
            "ticks": ""
           },
           "bgcolor": "#E5ECF6",
           "radialaxis": {
            "gridcolor": "white",
            "linecolor": "white",
            "ticks": ""
           }
          },
          "scene": {
           "xaxis": {
            "backgroundcolor": "#E5ECF6",
            "gridcolor": "white",
            "gridwidth": 2,
            "linecolor": "white",
            "showbackground": true,
            "ticks": "",
            "zerolinecolor": "white"
           },
           "yaxis": {
            "backgroundcolor": "#E5ECF6",
            "gridcolor": "white",
            "gridwidth": 2,
            "linecolor": "white",
            "showbackground": true,
            "ticks": "",
            "zerolinecolor": "white"
           },
           "zaxis": {
            "backgroundcolor": "#E5ECF6",
            "gridcolor": "white",
            "gridwidth": 2,
            "linecolor": "white",
            "showbackground": true,
            "ticks": "",
            "zerolinecolor": "white"
           }
          },
          "shapedefaults": {
           "line": {
            "color": "#2a3f5f"
           }
          },
          "ternary": {
           "aaxis": {
            "gridcolor": "white",
            "linecolor": "white",
            "ticks": ""
           },
           "baxis": {
            "gridcolor": "white",
            "linecolor": "white",
            "ticks": ""
           },
           "bgcolor": "#E5ECF6",
           "caxis": {
            "gridcolor": "white",
            "linecolor": "white",
            "ticks": ""
           }
          },
          "title": {
           "x": 0.05
          },
          "xaxis": {
           "automargin": true,
           "gridcolor": "white",
           "linecolor": "white",
           "ticks": "",
           "title": {
            "standoff": 15
           },
           "zerolinecolor": "white",
           "zerolinewidth": 2
          },
          "yaxis": {
           "automargin": true,
           "gridcolor": "white",
           "linecolor": "white",
           "ticks": "",
           "title": {
            "standoff": 15
           },
           "zerolinecolor": "white",
           "zerolinewidth": 2
          }
         }
        },
        "title": {
         "text": "                                 Investment Score by State"
        }
       }
      }
     },
     "metadata": {},
     "output_type": "display_data"
    }
   ],
   "source": [
    "import plotly.express as px\n",
    "\n",
    "# Create a choropleth map of investment scores\n",
    "fig = px.choropleth(\n",
    "    state_investment_scores,\n",
    "    locations=\"state\",\n",
    "    locationmode=\"USA-states\",\n",
    "    color=\"investment_score\",\n",
    "    color_continuous_scale=\"Viridis\",\n",
    "    scope=\"usa\",\n",
    "    title=\"                                 Investment Score by State\",\n",
    "    labels={\"investment_score\": \"Investment Score\"}\n",
    ")\n",
    "\n",
    "fig.show()"
   ]
  },
  {
   "cell_type": "code",
   "execution_count": null,
   "metadata": {},
   "outputs": [],
   "source": [
    "# %pip install geopy folium\n",
    "import pandas as pd\n",
    "from geopy.geocoders import Nominatim\n",
    "import folium\n",
    "from folium.plugins import HeatMap\n",
    "import time\n",
    "\n",
    "top100_markets_df = pd.DataFrame(top_investment_markets.head(100))  # use top 100 investment markets for heatmap\n",
    "\n",
    "# this can be confusing, what we need to do is to get the coordinates of the cities so we can plot them on the map\n",
    "# we will use the geopy library to get the coordinates of the cities\n",
    "# we will use the Nominatim geocoder to get the coordinates\n",
    "# we will then plot the coordinates on the map\n",
    "\n",
    "# Geocode cities to get coordinates\n",
    "geolocator = Nominatim(user_agent=\"city_locator\")\n",
    "latitudes = []\n",
    "longitudes = []\n",
    "\n",
    "# now we iterate through every row in the dataframe and get the coordinates\n",
    "for index, row in df.iterrows():\n",
    "    location = geolocator.geocode(f\"{row['city']}, {row['state']}, USA\", timeout=10)\n",
    "    # \n",
    "    if location:\n",
    "        latitudes.append(location.latitude)\n",
    "        longitudes.append(location.longitude)\n",
    "    else:\n",
    "        latitudes.append(None)\n",
    "        longitudes.append(None)\n",
    "\n",
    "top100_markets_df['latitude'] = latitudes\n",
    "top100_markets_df['longitude'] = longitudes\n",
    "\n",
    "# Drop rows where geocoding failed\n",
    "top100_markets_df.dropna(subset=['latitude', 'longitude'], inplace=True)"
   ]
  },
  {
   "cell_type": "code",
   "execution_count": null,
   "metadata": {},
   "outputs": [
    {
     "data": {
      "text/html": [
       "<div style=\"width:100%;\"><div style=\"position:relative;width:100%;height:0;padding-bottom:60%;\"><span style=\"color:#565656\">Make this Notebook Trusted to load map: File -> Trust Notebook</span><iframe srcdoc=\"&lt;!DOCTYPE html&gt;\n",
       "&lt;html&gt;\n",
       "&lt;head&gt;\n",
       "    \n",
       "    &lt;meta http-equiv=&quot;content-type&quot; content=&quot;text/html; charset=UTF-8&quot; /&gt;\n",
       "    \n",
       "        &lt;script&gt;\n",
       "            L_NO_TOUCH = false;\n",
       "            L_DISABLE_3D = false;\n",
       "        &lt;/script&gt;\n",
       "    \n",
       "    &lt;style&gt;html, body {width: 100%;height: 100%;margin: 0;padding: 0;}&lt;/style&gt;\n",
       "    &lt;style&gt;#map {position:absolute;top:0;bottom:0;right:0;left:0;}&lt;/style&gt;\n",
       "    &lt;script src=&quot;https://cdn.jsdelivr.net/npm/leaflet@1.9.3/dist/leaflet.js&quot;&gt;&lt;/script&gt;\n",
       "    &lt;script src=&quot;https://code.jquery.com/jquery-3.7.1.min.js&quot;&gt;&lt;/script&gt;\n",
       "    &lt;script src=&quot;https://cdn.jsdelivr.net/npm/bootstrap@5.2.2/dist/js/bootstrap.bundle.min.js&quot;&gt;&lt;/script&gt;\n",
       "    &lt;script src=&quot;https://cdnjs.cloudflare.com/ajax/libs/Leaflet.awesome-markers/2.0.2/leaflet.awesome-markers.js&quot;&gt;&lt;/script&gt;\n",
       "    &lt;link rel=&quot;stylesheet&quot; href=&quot;https://cdn.jsdelivr.net/npm/leaflet@1.9.3/dist/leaflet.css&quot;/&gt;\n",
       "    &lt;link rel=&quot;stylesheet&quot; href=&quot;https://cdn.jsdelivr.net/npm/bootstrap@5.2.2/dist/css/bootstrap.min.css&quot;/&gt;\n",
       "    &lt;link rel=&quot;stylesheet&quot; href=&quot;https://netdna.bootstrapcdn.com/bootstrap/3.0.0/css/bootstrap-glyphicons.css&quot;/&gt;\n",
       "    &lt;link rel=&quot;stylesheet&quot; href=&quot;https://cdn.jsdelivr.net/npm/@fortawesome/fontawesome-free@6.2.0/css/all.min.css&quot;/&gt;\n",
       "    &lt;link rel=&quot;stylesheet&quot; href=&quot;https://cdnjs.cloudflare.com/ajax/libs/Leaflet.awesome-markers/2.0.2/leaflet.awesome-markers.css&quot;/&gt;\n",
       "    &lt;link rel=&quot;stylesheet&quot; href=&quot;https://cdn.jsdelivr.net/gh/python-visualization/folium/folium/templates/leaflet.awesome.rotate.min.css&quot;/&gt;\n",
       "    \n",
       "            &lt;meta name=&quot;viewport&quot; content=&quot;width=device-width,\n",
       "                initial-scale=1.0, maximum-scale=1.0, user-scalable=no&quot; /&gt;\n",
       "            &lt;style&gt;\n",
       "                #map_d902c8b65c1e01ab15b1c02675b367e3 {\n",
       "                    position: relative;\n",
       "                    width: 100.0%;\n",
       "                    height: 100.0%;\n",
       "                    left: 0.0%;\n",
       "                    top: 0.0%;\n",
       "                }\n",
       "                .leaflet-container { font-size: 1rem; }\n",
       "            &lt;/style&gt;\n",
       "        \n",
       "    &lt;script src=&quot;https://cdn.jsdelivr.net/gh/python-visualization/folium@main/folium/templates/leaflet_heat.min.js&quot;&gt;&lt;/script&gt;\n",
       "&lt;/head&gt;\n",
       "&lt;body&gt;\n",
       "    \n",
       "    \n",
       "            &lt;div class=&quot;folium-map&quot; id=&quot;map_d902c8b65c1e01ab15b1c02675b367e3&quot; &gt;&lt;/div&gt;\n",
       "        \n",
       "&lt;/body&gt;\n",
       "&lt;script&gt;\n",
       "    \n",
       "    \n",
       "            var map_d902c8b65c1e01ab15b1c02675b367e3 = L.map(\n",
       "                &quot;map_d902c8b65c1e01ab15b1c02675b367e3&quot;,\n",
       "                {\n",
       "                    center: [37.0, -95.0],\n",
       "                    crs: L.CRS.EPSG3857,\n",
       "                    ...{\n",
       "  &quot;zoom&quot;: 4,\n",
       "  &quot;zoomControl&quot;: true,\n",
       "  &quot;preferCanvas&quot;: false,\n",
       "}\n",
       "\n",
       "                }\n",
       "            );\n",
       "\n",
       "            \n",
       "\n",
       "        \n",
       "    \n",
       "            var tile_layer_661694c79498ed25246b9b6c9a98d93b = L.tileLayer(\n",
       "                &quot;https://tile.openstreetmap.org/{z}/{x}/{y}.png&quot;,\n",
       "                {\n",
       "  &quot;minZoom&quot;: 0,\n",
       "  &quot;maxZoom&quot;: 19,\n",
       "  &quot;maxNativeZoom&quot;: 19,\n",
       "  &quot;noWrap&quot;: false,\n",
       "  &quot;attribution&quot;: &quot;\\u0026copy; \\u003ca href=\\&quot;https://www.openstreetmap.org/copyright\\&quot;\\u003eOpenStreetMap\\u003c/a\\u003e contributors&quot;,\n",
       "  &quot;subdomains&quot;: &quot;abc&quot;,\n",
       "  &quot;detectRetina&quot;: false,\n",
       "  &quot;tms&quot;: false,\n",
       "  &quot;opacity&quot;: 1,\n",
       "}\n",
       "\n",
       "            );\n",
       "        \n",
       "    \n",
       "            tile_layer_661694c79498ed25246b9b6c9a98d93b.addTo(map_d902c8b65c1e01ab15b1c02675b367e3);\n",
       "        \n",
       "    \n",
       "            var heat_map_d4dbebadc2526fd01d2e2e718dd745ca = L.heatLayer(\n",
       "                [[40.4848003, -106.831735, 0.9469546185549124], [44.4688795, -71.1836547, 0.940928506487124], [32.8881879, -84.3265855, 0.9344932089899154], [48.202158, -114.315321, 0.9342760345486851], [39.624457, -106.63085239890029, 0.9338785134225153], [34.0124425, -85.2559398, 0.9220673647830242], [26.7542312, -80.9336753, 0.9177312583085208], [34.5774368, -83.332881, 0.9130073498431246], [44.3169922, -69.7734278, 0.8973311403201709], [43.479965, -110.761815, 0.8969568456823894], [43.5278546, -71.470351, 0.8966044662321696], [35.2334472, -82.7342919, 0.896039147481803], [43.519629, -114.315325, 0.8905644472868474], [46.0131505, -112.536508, 0.8878823248968959], [35.9603948, -83.9210261, 0.8791216197880201], [41.9268104, -73.99526951219678, 0.8758233695800173], [32.4490141, -81.7832912, 0.8753021738169183], [27.5472589, -81.8114715, 0.873340841988962], [35.2626635, -77.5816353, 0.8722191473729377], [39.3642852, -74.4229351, 0.8693353363151631], [42.933597, -72.2784264, 0.8687382299562879], [27.3923408, -80.8873655, 0.8683755292595148], [44.1004515, -70.2150294, 0.8666953127156889], [44.0265525, -116.9629378, 0.8665157903461195], [48.2765903, -116.553247, 0.8652280729104797], [35.4798757, -79.1802994, 0.8640337212977551], [43.1329504, -115.691197, 0.8631780808021956], [34.5114883, -83.5271166, 0.8629016790218594], [36.2187873, -81.684004, 0.8610340790732562], [35.3501426, -80.2000578, 0.8604253803870012], [34.7740495, -79.4628248, 0.857373503032071], [39.6411589, -85.1410748, 0.8541553379878019], [35.949684, -85.0274835, 0.8535983517830213], [46.8701049, -113.995267, 0.8532105976128304], [40.9995386, -75.1812913, 0.8510022291552714], [35.7059114, -77.9175714, 0.8506494414691821], [39.5466381, -107.3246941, 0.8450080371301381], [43.207178, -71.537476, 0.8447826878974642], [35.3137739, -83.1765814, 0.8393428819951334], [41.8006523, -73.1212214, 0.8379449671191415], [36.4993877, -80.6072138, 0.8376279779827168], [31.5311784, -84.614328, 0.8368112981080474], [41.4542914, -70.6038026, 0.8364049848800944], [37.7527982, -100.0170787, 0.8358560126195969], [27.4957453, -81.4410425, 0.8356871775407955], [44.8016255, -68.7713289, 0.8347215816160304], [36.7281652, -91.8525756, 0.8346033750376914], [42.2528649, -73.790959, 0.8310596487011028], [42.5357428, -113.792794, 0.830923902635092], [40.6851324, -76.1953701, 0.8290726650877834], [39.2776156, -74.5746001, 0.828721442497104], [39.5994095, -110.810714, 0.8259185820596441], [39.4862777, -75.0254256, 0.8241423408430163], [31.8477347, -81.5960705, 0.8233821494408845], [28.8035939, -82.5759329, 0.8230738683115453], [40.1936892, -85.3865271, 0.8226200568245036], [40.7542375, -86.3625191, 0.8225958123092892], [36.0321186, -75.6776147, 0.8225322974426441], [42.8620287, -112.450627, 0.8221595594762009], [35.1951981, -79.4692796, 0.8204365835308798], [46.5927425, -112.036277, 0.8203442356779478], [36.1631575, -82.8309861, 0.8201573378080195], [35.8725573, -76.6215245, 0.8199751666034061], [35.1987522, -111.651822, 0.8191556428532366], [32.1927895, -80.73932282974188, 0.8187386487992947], [24.5548262, -81.8020722, 0.8186390895372508], [36.0625843, -94.1574328, 0.8186037471581847], [26.1421976, -81.7942944, 0.8185849849218295], [32.8998822, -105.9602081, 0.8185221587721743], [36.0956918, -79.4377991, 0.8165447151687527], [32.0790074, -81.0921335, 0.8156329045614347], [32.723268, -114.6179954, 0.814566549515244], [40.2797657, -86.5108244, 0.8139540994953423], [35.9423833, -77.7956949, 0.8127622487292134], [42.9956397, -71.4547891, 0.8120767890156754], [34.2542084, -110.029832, 0.8104203510914558], [47.5048851, -111.29189, 0.8101309449117184], [43.0481221, -76.1474244, 0.8100480698881992], [30.1894252, -82.6394803, 0.8092874608259286], [34.2978794, -83.8240663, 0.8077467635571134], [29.1871986, -82.1400923, 0.8058008044230593], [37.7781702, -81.1881557, 0.8051897691885725], [41.3082138, -72.9250518, 0.804734207293471], [36.7413624, -88.6352595, 0.8047218716486277], [37.3433974, -85.3419069, 0.8043775629975334], [35.0525759, -78.878292, 0.8042146949120861], [41.5243537, -72.0759008, 0.8032615631814417], [39.545816, -95.3326052, 0.8030466036087744], [40.8014651, -84.600988, 0.80200634753097], [27.2158826, -81.8584164, 0.8019997945646575], [43.157285, -77.615214, 0.8011065125855528], [36.2297936, -93.1076765, 0.8010321924727478], [33.0380388, -82.436141, 0.8010002650405588], [42.0965167, -79.2380322, 0.8009288449363179], [47.6742994, -116.7811531, 0.800891484137701], [34.7229391, -76.7260436, 0.799806488334139], [43.6573605, -70.2586618, 0.7996058347179625], [35.1595182, -84.8766115, 0.7995400397281814], [31.715036, -83.2541994, 0.7995295263112919], [39.9234046, -83.810138, 0.7989824472775298]],\n",
       "                {\n",
       "  &quot;minOpacity&quot;: 0.6,\n",
       "  &quot;maxZoom&quot;: 18,\n",
       "  &quot;radius&quot;: 20,\n",
       "  &quot;blur&quot;: 15,\n",
       "}\n",
       "            );\n",
       "        \n",
       "    \n",
       "            heat_map_d4dbebadc2526fd01d2e2e718dd745ca.addTo(map_d902c8b65c1e01ab15b1c02675b367e3);\n",
       "        \n",
       "&lt;/script&gt;\n",
       "&lt;/html&gt;\" style=\"position:absolute;width:100%;height:100%;left:0;top:0;border:none !important;\" allowfullscreen webkitallowfullscreen mozallowfullscreen></iframe></div></div>"
      ],
      "text/plain": [
       "<folium.folium.Map at 0x16a536060>"
      ]
     },
     "execution_count": 189,
     "metadata": {},
     "output_type": "execute_result"
    }
   ],
   "source": [
    "\n",
    "# Center the map on the US\n",
    "m = folium.Map(location=[37, -95], zoom_start=4)\n",
    "\n",
    "# Create a list of coordinates and investment scores\n",
    "heat_data = [[row['latitude'], row['longitude'], row['investment_score']] \n",
    "             for index, row in top100_markets_df.iterrows()]\n",
    "\n",
    "# Add the HeatMap layer\n",
    "HeatMap(heat_data, min_opacity=0.6, radius=20).add_to(m)\n",
    "\n",
    "m\n",
    "\n"
   ]
  }
 ],
 "metadata": {
  "kernelspec": {
   "display_name": "base",
   "language": "python",
   "name": "python3"
  },
  "language_info": {
   "codemirror_mode": {
    "name": "ipython",
    "version": 3
   },
   "file_extension": ".py",
   "mimetype": "text/x-python",
   "name": "python",
   "nbconvert_exporter": "python",
   "pygments_lexer": "ipython3",
   "version": "3.12.4"
  }
 },
 "nbformat": 4,
 "nbformat_minor": 2
}
